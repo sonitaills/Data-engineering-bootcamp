{
 "cells": [
  {
   "cell_type": "markdown",
   "id": "judicial-camera",
   "metadata": {},
   "source": [
    "#Extração dos dados do ENADE"
   ]
  },
  {
   "cell_type": "code",
   "execution_count": 1,
   "id": "remarkable-latitude",
   "metadata": {},
   "outputs": [],
   "source": [
    "#importat bibliotecas nescessários\n",
    "import pandas as pd\n",
    "import numpy as np\n",
    "import zipfile #essa biblioteca lida com arquivos compactados\n",
    "import requests\n",
    "from io import BytesIO #depois avaliar esse módulo\n",
    "import os #biblioteca para trabalhar com sistema!"
   ]
  },
  {
   "cell_type": "code",
   "execution_count": 3,
   "id": "functioning-bicycle",
   "metadata": {},
   "outputs": [],
   "source": [
    "#criar um diretório para armazenar o conteúdo do ENADE\n",
    "os.makedirs('./enade2019',exist_ok =True) # o exist_ok serve para se, no caso de re-execução, ele ignora o erro da posta existente"
   ]
  },
  {
   "cell_type": "code",
   "execution_count": 4,
   "id": "leading-vegetable",
   "metadata": {},
   "outputs": [],
   "source": [
    "#define a url\n",
    "url = \"https://download.inep.gov.br/microdados/Enade_Microdados/microdados_enade_2019.zip\" #endereço dos dados da internet\n",
    "#download do conteúdo\n",
    "filebytes = BytesIO(\n",
    "    requests.get(url).content\n",
    ")\n",
    "#extrai o conteúdo do zip file\n",
    "myzip = zipfile.ZipFile(filebytes)\n",
    "myzip.extractall(\"./enade2019\")"
   ]
  },
  {
   "cell_type": "markdown",
   "id": "accessory-missouri",
   "metadata": {},
   "source": [
    "## Verificando os dados baixados"
   ]
  },
  {
   "cell_type": "code",
   "execution_count": 3,
   "id": "patent-cement",
   "metadata": {},
   "outputs": [],
   "source": [
    "enade = pd.read_csv('./enade2019/microdados_enade_2019/2019/3.DADOS/microdados_enade_2019.txt',\n",
    "                   sep= \";\",decimal = \",\")"
   ]
  },
  {
   "cell_type": "code",
   "execution_count": null,
   "id": "protective-saskatchewan",
   "metadata": {},
   "outputs": [],
   "source": []
  },
  {
   "cell_type": "code",
   "execution_count": null,
   "id": "continuous-juvenile",
   "metadata": {},
   "outputs": [],
   "source": []
  },
  {
   "cell_type": "code",
   "execution_count": null,
   "id": "floating-target",
   "metadata": {},
   "outputs": [],
   "source": []
  }
 ],
 "metadata": {
  "kernelspec": {
   "display_name": "Python 3",
   "language": "python",
   "name": "python3"
  },
  "language_info": {
   "codemirror_mode": {
    "name": "ipython",
    "version": 3
   },
   "file_extension": ".py",
   "mimetype": "text/x-python",
   "name": "python",
   "nbconvert_exporter": "python",
   "pygments_lexer": "ipython3",
   "version": "3.9.0"
  }
 },
 "nbformat": 4,
 "nbformat_minor": 5
}
