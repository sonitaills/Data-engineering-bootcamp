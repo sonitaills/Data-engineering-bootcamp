{
 "cells": [
  {
   "cell_type": "code",
   "execution_count": 1,
   "id": "patent-grill",
   "metadata": {},
   "outputs": [],
   "source": [
    "#importat bibliotecas nescessários\n",
    "import pandas as pd\n",
    "import numpy as np\n",
    "import zipfile #essa biblioteca lida com arquivos compactados\n",
    "import requests\n",
    "from io import BytesIO #depois avaliar esse módulo\n",
    "import os #biblioteca para trabalhar com sistema!"
   ]
  },
  {
   "cell_type": "code",
   "execution_count": null,
   "id": "governmental-infrared",
   "metadata": {},
   "outputs": [],
   "source": []
  },
  {
   "cell_type": "code",
   "execution_count": 2,
   "id": "appreciated-carbon",
   "metadata": {},
   "outputs": [],
   "source": [
    "#criar um diretório para armazenar o conteúdo do ENADE\n",
    "os.makedirs('./T_pratico',exist_ok =True) # o exist_ok serve para se, no caso de re-execução, ele ignora o erro da posta existente"
   ]
  },
  {
   "cell_type": "code",
   "execution_count": null,
   "id": "scenic-trade",
   "metadata": {},
   "outputs": [],
   "source": [
    "#Essa célula retorna Memory Error\n",
    "#define a url\n",
    "year_dict = {2019:\"https://download.inep.gov.br/microdados/microdados_enem_2019.zip\",\n",
    "            2018: \"https://download.inep.gov.br/microdados/microdados_enem2018.zip\",\n",
    "            2017:\"https://download.inep.gov.br/microdados/microdados_enem2017.zip\",\n",
    "            2016:\"https://download.inep.gov.br/microdados/microdados_enem2016.zip\",\n",
    "            2015:\"https://download.inep.gov.br/microdados/microdados_enem2015.zip\",\n",
    "            2014:\"https://download.inep.gov.br/microdados/microdados_enem2014.zip\",\n",
    "            2013:\"https://download.inep.gov.br/microdados/microdados_enem2013.zip\"\n",
    "            }\n",
    "\n",
    "for year in year_dict:\n",
    "    url = year_dict[year]\n",
    "    filebytes = BytesIO(\n",
    "        requests.get(url,stream = True).content\n",
    "    )\n",
    "    \n",
    "    os.makedirs('E:/Bootcamp IGTI - Egenharia de dados/Modulo I/dados_enem/'+str(year),exist_ok =True)\n",
    "    #extrai o conteúdo do zip file\n",
    "    myzip = zipfile.ZipFile(filebytes)\n",
    "    myzip.extractall('E:/Bootcamp IGTI - Egenharia de dados/Modulo I/dados_enem/'+str(year))"
   ]
  },
  {
   "cell_type": "code",
   "execution_count": null,
   "id": "committed-newsletter",
   "metadata": {},
   "outputs": [],
   "source": [
    "enem = pd.read_csv('./T_pratico/DADOS/MICRODADOS_ENEM_2019.csv', sep=';',decimal = ',', encoding = 'cp860', engine='python')"
   ]
  },
  {
   "cell_type": "code",
   "execution_count": 5,
   "id": "intelligent-doctrine",
   "metadata": {},
   "outputs": [],
   "source": [
    "year_dict = {2019:\"https://download.inep.gov.br/microdados/microdados_enem_2019.zip\",\n",
    "            2018: \"https://download.inep.gov.br/microdados/microdados_enem2018.zip\",\n",
    "            2017:\"https://download.inep.gov.br/microdados/microdados_enem2017.zip\",\n",
    "            2016:\"https://download.inep.gov.br/microdados/microdados_enem2016.zip\",\n",
    "            2015:\"https://download.inep.gov.br/microdados/microdados_enem2015.zip\",\n",
    "            2014:\"https://download.inep.gov.br/microdados/microdados_enem2014.zip\",\n",
    "            2013:\"https://download.inep.gov.br/microdados/microdados_enem2013.zip\"\n",
    "            }"
   ]
  },
  {
   "cell_type": "code",
   "execution_count": 12,
   "id": "actual-antigua",
   "metadata": {},
   "outputs": [],
   "source": [
    "for item in year_dict:\n",
    "    os.makedirs('E:/Bootcamp IGTI - Egenharia de dados/Modulo I/dados_enem/'+str(item))"
   ]
  },
  {
   "cell_type": "code",
   "execution_count": 10,
   "id": "duplicate-climate",
   "metadata": {},
   "outputs": [],
   "source": [
    "\n"
   ]
  },
  {
   "cell_type": "code",
   "execution_count": null,
   "id": "acute-calvin",
   "metadata": {},
   "outputs": [],
   "source": []
  }
 ],
 "metadata": {
  "kernelspec": {
   "display_name": "Python 3",
   "language": "python",
   "name": "python3"
  },
  "language_info": {
   "codemirror_mode": {
    "name": "ipython",
    "version": 3
   },
   "file_extension": ".py",
   "mimetype": "text/x-python",
   "name": "python",
   "nbconvert_exporter": "python",
   "pygments_lexer": "ipython3",
   "version": "3.9.0"
  }
 },
 "nbformat": 4,
 "nbformat_minor": 5
}
